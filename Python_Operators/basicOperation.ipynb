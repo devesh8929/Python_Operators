{
  "cells": [
    {
      "cell_type": "code",
      "source": [
        "#sum, difference, multiply or quotient of two number\n",
        "a = 9\n",
        "b = 8\n",
        "c = a+b\n",
        "d = a-b\n",
        "e = a*b\n",
        "f = a/b\n",
        "print(\"sum of two number a and b is : \".capitalize(), c)\n",
        "print(\"difference of two number a and b is : \".capitalize(), d)\n",
        "print(\"multiply of two number a and b is : \".capitalize(), e)\n",
        "print(\"quotient of two number a and b is : \".capitalize(), f)"
      ],
      "metadata": {
        "colab": {
          "base_uri": "https://localhost:8080/"
        },
        "id": "tQCklQEtgqAW",
        "outputId": "495a12bf-1d51-47bd-e9de-31736161fb03"
      },
      "execution_count": 4,
      "outputs": [
        {
          "output_type": "stream",
          "name": "stdout",
          "text": [
            "Sum of two number a and b is :  17\n",
            "Difference of two number a and b is :  1\n",
            "Multiply of two number a and b is :  72\n",
            "Quotient of two number a and b is :  1.125\n"
          ]
        }
      ]
    },
    {
      "cell_type": "code",
      "source": [
        "#various assisgnment operation\n",
        "a += 3\n",
        "b *= 2\n",
        "c /= 3\n",
        "print(f\"assisgmment operator a += 3 is {a} \")\n",
        "print(f\"assisgmment operator b *= 3 is {b} \")"
      ],
      "metadata": {
        "colab": {
          "base_uri": "https://localhost:8080/"
        },
        "id": "I9zd9p53iMen",
        "outputId": "57e2f123-92ac-48a5-c77b-27adf8f52cbe"
      },
      "execution_count": 7,
      "outputs": [
        {
          "output_type": "stream",
          "name": "stdout",
          "text": [
            "assisgmment operator a += 3 is 15 \n",
            "assisgmment operator b *= 3 is 32 \n"
          ]
        }
      ]
    },
    {
      "cell_type": "code",
      "source": [
        "#compare two number and print result\n",
        "a = int(input(\"Enter a number\"))\n",
        "b = int(input(\"Enter a number\"))\n",
        "if a <= b:\n",
        "  print(f\"{a} is less then {b}\")\n",
        "else:\n",
        "  print(f\"{a} is greater then {b}\")"
      ],
      "metadata": {
        "colab": {
          "base_uri": "https://localhost:8080/"
        },
        "id": "0DD1SCkEiRtP",
        "outputId": "b3fea5ab-6c02-4fc7-b9ff-020f427c31d9"
      },
      "execution_count": 1,
      "outputs": [
        {
          "output_type": "stream",
          "name": "stdout",
          "text": [
            "Enter a number12\n",
            "Enter a number10\n",
            "12 is greater then 10\n"
          ]
        }
      ]
    },
    {
      "cell_type": "code",
      "source": [
        "#check condition using logical operator\n",
        "a = int(input(\"Enter a number\"))\n",
        "b = int(input(\"Enter a number\"))\n",
        "if a % 2 == 0 and b % 2 == 0:\n",
        "  print(f\"{a} and {b} are even\")\n",
        "else:\n",
        "  print(\"a and b are odd\")"
      ],
      "metadata": {
        "colab": {
          "base_uri": "https://localhost:8080/"
        },
        "id": "I6O8cQ9HN6gy",
        "outputId": "0537d14a-84a3-4fcb-9253-1e67778085f6"
      },
      "execution_count": 3,
      "outputs": [
        {
          "output_type": "stream",
          "name": "stdout",
          "text": [
            "Enter a number10\n",
            "Enter a number3\n",
            "a and b are odd\n"
          ]
        }
      ]
    },
    {
      "cell_type": "code",
      "source": [
        "#check identity of a variable\n",
        "print(f\"id of a is {id(a)}\".capitalize())\n",
        "print(f\"id of b is {id(b)}\".capitalize())"
      ],
      "metadata": {
        "colab": {
          "base_uri": "https://localhost:8080/"
        },
        "id": "3TxWd0wVOsZR",
        "outputId": "4206658f-0f52-4620-9b3d-9512b55fd20f"
      },
      "execution_count": 5,
      "outputs": [
        {
          "output_type": "stream",
          "name": "stdout",
          "text": [
            "Id of a is 133197627802128\n",
            "Id of b is 133197627801904\n"
          ]
        }
      ]
    },
    {
      "cell_type": "code",
      "source": [
        "#bitwise operation between two variable\n",
        "a = 7\n",
        "b = 9\n",
        "print(f\"number a logical and with 1 is {a and 1}\".capitalize())\n",
        "print(f\"number b logical or with 0 is {b or 0}\".capitalize())"
      ],
      "metadata": {
        "colab": {
          "base_uri": "https://localhost:8080/"
        },
        "id": "Ni3BXwMaPLNT",
        "outputId": "d4a44fea-700f-4da8-b45e-b03367cde8d9"
      },
      "execution_count": 8,
      "outputs": [
        {
          "output_type": "stream",
          "name": "stdout",
          "text": [
            "Number a logical and with 1 is 1\n",
            "Number b logical or with 0 is 9\n"
          ]
        }
      ]
    },
    {
      "cell_type": "code",
      "source": [
        "#Use unary operators to change the sign of a number.\n",
        "a = -9\n",
        "\n",
        "print(f\"unary operator to change the sign of a is {-a}\".capitalize())"
      ],
      "metadata": {
        "colab": {
          "base_uri": "https://localhost:8080/"
        },
        "id": "5jNcB4RtP4W_",
        "outputId": "dd8d23d8-096e-43d1-f8bb-838bc7f9735c"
      },
      "execution_count": 14,
      "outputs": [
        {
          "output_type": "stream",
          "name": "stdout",
          "text": [
            "Unary operator to change the sign of a is 9\n"
          ]
        }
      ]
    },
    {
      "cell_type": "code",
      "source": [
        "#Use the ternary operator to assign values based on conditions.\n",
        "\n",
        "user_score = 90\n",
        "\n",
        "print(\"Next level\") if user_score > 50 else print(\"Repeat level\")"
      ],
      "metadata": {
        "colab": {
          "base_uri": "https://localhost:8080/"
        },
        "id": "hjpGw8L5QtcX",
        "outputId": "cdb138a0-80dd-489a-f90c-a8ff7036c910"
      },
      "execution_count": 15,
      "outputs": [
        {
          "output_type": "stream",
          "name": "stdout",
          "text": [
            "Next level\n"
          ]
        }
      ]
    },
    {
      "cell_type": "code",
      "source": [],
      "metadata": {
        "id": "gRiwKJmdSPTN"
      },
      "execution_count": null,
      "outputs": []
    }
  ],
  "metadata": {
    "colab": {
      "provenance": []
    },
    "kernelspec": {
      "display_name": "Python 3",
      "name": "python3"
    },
    "language_info": {
      "name": "python"
    }
  },
  "nbformat": 4,
  "nbformat_minor": 0
}